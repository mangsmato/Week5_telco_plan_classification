{
 "cells": [
  {
   "cell_type": "markdown",
   "id": "6a227453",
   "metadata": {},
   "source": [
    "## 1. Defining the Question"
   ]
  },
  {
   "cell_type": "markdown",
   "id": "8a134f20",
   "metadata": {},
   "source": [
    "### a) Specifying the Data Analysis Question"
   ]
  },
  {
   "cell_type": "markdown",
   "id": "6996d3cc",
   "metadata": {},
   "source": [
    "Mobile carrier Megaline has found out that many of their subscribers use legacy plans.\n",
    "They want to develop a model that would analyze subscribers' behavior and recommend\n",
    "one of Megaline's newer plans: Smart or Ultra."
   ]
  },
  {
   "cell_type": "markdown",
   "id": "f74b85af",
   "metadata": {},
   "source": [
    "### b) Defining the Metric for Success"
   ]
  },
  {
   "cell_type": "markdown",
   "id": "bac69d24",
   "metadata": {},
   "source": [
    "The solution will have satisfied the research question when you develop a model that will pick the right plan."
   ]
  },
  {
   "cell_type": "markdown",
   "id": "c518304b",
   "metadata": {},
   "source": [
    "### c) Understanding the context"
   ]
  },
  {
   "cell_type": "markdown",
   "id": "cd26d0ae",
   "metadata": {},
   "source": [
    "You are going to carry out a preliminary analysis of the plans based on a relatively small\n",
    "client selection. You'll have the data on Megatelco clients: who the clients are, where\n",
    "they're from, which plan they use, and the number of calls they made and text messages\n",
    "they sent in 2018. Your job is to analyze clients' behavior and recommend\n",
    "one of Megaline's newer plans: Smart or Ultra"
   ]
  },
  {
   "cell_type": "markdown",
   "id": "99a35c6a",
   "metadata": {},
   "source": [
    "### d) Recording the Experimental Design"
   ]
  },
  {
   "cell_type": "markdown",
   "id": "4f25c7fa",
   "metadata": {},
   "source": [
    "The steps to be taken include:\n",
    "\n",
    "<li> Split the source data into a training set, a validation set, and a test set.\n",
    "<li> Investigate the quality of different models by changing hyperparameters. Briefly\n",
    "describe the findings of the study.\n",
    "<li> Check the quality of the model using the test set.\n",
    "<li> Additional task: sanity check the model.."
   ]
  },
  {
   "cell_type": "markdown",
   "id": "10f5ae31",
   "metadata": {},
   "source": [
    "## 2. Data Analysis "
   ]
  },
  {
   "cell_type": "markdown",
   "id": "d759cc26",
   "metadata": {},
   "source": [
    "### a) Importing the relevant libraries"
   ]
  },
  {
   "cell_type": "code",
   "execution_count": 1,
   "id": "ecc786d7",
   "metadata": {},
   "outputs": [],
   "source": [
    "### a) Importing the relevant libraries\n",
    "\n",
    "# import data analysis libraries\n",
    "import pandas as pd\n",
    "import numpy as np\n",
    "\n",
    "# import data visualization libraries\n",
    "import matplotlib.pyplot as plt\n",
    "import seaborn as sns\n",
    "\n",
    "# since this problem is a classification challenge, we shall import the relevant classification models\n",
    "from sklearn.tree import DecisionTreeClassifier\n",
    "from sklearn.ensemble import RandomForestClassifier\n",
    "from sklearn.linear_model import LogisticRegression\n",
    "\n",
    "# import function to split the data into training and validation set\n",
    "from sklearn.model_selection import train_test_split\n",
    "\n",
    "# import scoring metrics\n",
    "from sklearn.metrics import f1_score\n",
    "\n",
    "# import a scaler to standardize the featurs\n",
    "from sklearn.preprocessing import StandardScaler\n",
    "\n",
    "# import scipy to help in removing outliers\n",
    "from scipy.stats import zscore\n",
    "\n",
    "# libraries for model hyperparameter tuning\n",
    "from sklearn.model_selection import RepeatedStratifiedKFold\n",
    "from sklearn.model_selection import GridSearchCV\n",
    "\n",
    "# for model reporting\n",
    "from sklearn.metrics import classification_report\n",
    "\n",
    "# suppress warnings\n",
    "import warnings"
   ]
  },
  {
   "cell_type": "code",
   "execution_count": 2,
   "id": "269b0220",
   "metadata": {},
   "outputs": [],
   "source": [
    "# suppress warnings\n",
    "warnings.filterwarnings('ignore')"
   ]
  },
  {
   "cell_type": "markdown",
   "id": "b4d29231",
   "metadata": {},
   "source": [
    "### b) Data Importation"
   ]
  },
  {
   "cell_type": "code",
   "execution_count": 3,
   "id": "a65d93da",
   "metadata": {},
   "outputs": [
    {
     "name": "stdout",
     "output_type": "stream",
     "text": [
      "(3214, 5)\n"
     ]
    },
    {
     "data": {
      "text/html": [
       "<div>\n",
       "<style scoped>\n",
       "    .dataframe tbody tr th:only-of-type {\n",
       "        vertical-align: middle;\n",
       "    }\n",
       "\n",
       "    .dataframe tbody tr th {\n",
       "        vertical-align: top;\n",
       "    }\n",
       "\n",
       "    .dataframe thead th {\n",
       "        text-align: right;\n",
       "    }\n",
       "</style>\n",
       "<table border=\"1\" class=\"dataframe\">\n",
       "  <thead>\n",
       "    <tr style=\"text-align: right;\">\n",
       "      <th></th>\n",
       "      <th>calls</th>\n",
       "      <th>minutes</th>\n",
       "      <th>messages</th>\n",
       "      <th>mb_used</th>\n",
       "      <th>is_ultra</th>\n",
       "    </tr>\n",
       "  </thead>\n",
       "  <tbody>\n",
       "    <tr>\n",
       "      <th>0</th>\n",
       "      <td>40.0</td>\n",
       "      <td>311.90</td>\n",
       "      <td>83.0</td>\n",
       "      <td>19915.42</td>\n",
       "      <td>0</td>\n",
       "    </tr>\n",
       "    <tr>\n",
       "      <th>1</th>\n",
       "      <td>85.0</td>\n",
       "      <td>516.75</td>\n",
       "      <td>56.0</td>\n",
       "      <td>22696.96</td>\n",
       "      <td>0</td>\n",
       "    </tr>\n",
       "    <tr>\n",
       "      <th>2</th>\n",
       "      <td>77.0</td>\n",
       "      <td>467.66</td>\n",
       "      <td>86.0</td>\n",
       "      <td>21060.45</td>\n",
       "      <td>0</td>\n",
       "    </tr>\n",
       "    <tr>\n",
       "      <th>3</th>\n",
       "      <td>106.0</td>\n",
       "      <td>745.53</td>\n",
       "      <td>81.0</td>\n",
       "      <td>8437.39</td>\n",
       "      <td>1</td>\n",
       "    </tr>\n",
       "    <tr>\n",
       "      <th>4</th>\n",
       "      <td>66.0</td>\n",
       "      <td>418.74</td>\n",
       "      <td>1.0</td>\n",
       "      <td>14502.75</td>\n",
       "      <td>0</td>\n",
       "    </tr>\n",
       "    <tr>\n",
       "      <th>...</th>\n",
       "      <td>...</td>\n",
       "      <td>...</td>\n",
       "      <td>...</td>\n",
       "      <td>...</td>\n",
       "      <td>...</td>\n",
       "    </tr>\n",
       "    <tr>\n",
       "      <th>3209</th>\n",
       "      <td>122.0</td>\n",
       "      <td>910.98</td>\n",
       "      <td>20.0</td>\n",
       "      <td>35124.90</td>\n",
       "      <td>1</td>\n",
       "    </tr>\n",
       "    <tr>\n",
       "      <th>3210</th>\n",
       "      <td>25.0</td>\n",
       "      <td>190.36</td>\n",
       "      <td>0.0</td>\n",
       "      <td>3275.61</td>\n",
       "      <td>0</td>\n",
       "    </tr>\n",
       "    <tr>\n",
       "      <th>3211</th>\n",
       "      <td>97.0</td>\n",
       "      <td>634.44</td>\n",
       "      <td>70.0</td>\n",
       "      <td>13974.06</td>\n",
       "      <td>0</td>\n",
       "    </tr>\n",
       "    <tr>\n",
       "      <th>3212</th>\n",
       "      <td>64.0</td>\n",
       "      <td>462.32</td>\n",
       "      <td>90.0</td>\n",
       "      <td>31239.78</td>\n",
       "      <td>0</td>\n",
       "    </tr>\n",
       "    <tr>\n",
       "      <th>3213</th>\n",
       "      <td>80.0</td>\n",
       "      <td>566.09</td>\n",
       "      <td>6.0</td>\n",
       "      <td>29480.52</td>\n",
       "      <td>1</td>\n",
       "    </tr>\n",
       "  </tbody>\n",
       "</table>\n",
       "<p>3214 rows × 5 columns</p>\n",
       "</div>"
      ],
      "text/plain": [
       "      calls  minutes  messages   mb_used  is_ultra\n",
       "0      40.0   311.90      83.0  19915.42         0\n",
       "1      85.0   516.75      56.0  22696.96         0\n",
       "2      77.0   467.66      86.0  21060.45         0\n",
       "3     106.0   745.53      81.0   8437.39         1\n",
       "4      66.0   418.74       1.0  14502.75         0\n",
       "...     ...      ...       ...       ...       ...\n",
       "3209  122.0   910.98      20.0  35124.90         1\n",
       "3210   25.0   190.36       0.0   3275.61         0\n",
       "3211   97.0   634.44      70.0  13974.06         0\n",
       "3212   64.0   462.32      90.0  31239.78         0\n",
       "3213   80.0   566.09       6.0  29480.52         1\n",
       "\n",
       "[3214 rows x 5 columns]"
      ]
     },
     "execution_count": 3,
     "metadata": {},
     "output_type": "execute_result"
    }
   ],
   "source": [
    "# import the data and preview it\n",
    "df = pd.read_csv('users_behavior.csv')\n",
    "\n",
    "# determine the size of the dataset\n",
    "print(df.shape)\n",
    "\n",
    "# explore the first and last 5 records\n",
    "df"
   ]
  },
  {
   "cell_type": "markdown",
   "id": "baf87e2c",
   "metadata": {},
   "source": [
    "### c) Data Exploration and Data Cleaning"
   ]
  },
  {
   "cell_type": "code",
   "execution_count": 4,
   "id": "6655b901",
   "metadata": {},
   "outputs": [
    {
     "data": {
      "text/plain": [
       "Index(['calls', 'minutes', 'messages', 'mb_used', 'is_ultra'], dtype='object')"
      ]
     },
     "execution_count": 4,
     "metadata": {},
     "output_type": "execute_result"
    }
   ],
   "source": [
    "# check the column names\n",
    "df.columns"
   ]
  },
  {
   "cell_type": "code",
   "execution_count": 5,
   "id": "deb73e77",
   "metadata": {},
   "outputs": [
    {
     "data": {
      "text/plain": [
       "calls       float64\n",
       "minutes     float64\n",
       "messages    float64\n",
       "mb_used     float64\n",
       "is_ultra      int64\n",
       "dtype: object"
      ]
     },
     "execution_count": 5,
     "metadata": {},
     "output_type": "execute_result"
    }
   ],
   "source": [
    "# check for data types\n",
    "df.dtypes"
   ]
  },
  {
   "cell_type": "markdown",
   "id": "055f8b09",
   "metadata": {},
   "source": [
    "all columns are in the correct data type so no need for conversion"
   ]
  },
  {
   "cell_type": "code",
   "execution_count": 6,
   "id": "c14a5af3",
   "metadata": {},
   "outputs": [
    {
     "data": {
      "text/html": [
       "<div>\n",
       "<style scoped>\n",
       "    .dataframe tbody tr th:only-of-type {\n",
       "        vertical-align: middle;\n",
       "    }\n",
       "\n",
       "    .dataframe tbody tr th {\n",
       "        vertical-align: top;\n",
       "    }\n",
       "\n",
       "    .dataframe thead th {\n",
       "        text-align: right;\n",
       "    }\n",
       "</style>\n",
       "<table border=\"1\" class=\"dataframe\">\n",
       "  <thead>\n",
       "    <tr style=\"text-align: right;\">\n",
       "      <th></th>\n",
       "      <th>calls</th>\n",
       "      <th>minutes</th>\n",
       "      <th>messages</th>\n",
       "      <th>mb_used</th>\n",
       "      <th>is_ultra</th>\n",
       "    </tr>\n",
       "  </thead>\n",
       "  <tbody>\n",
       "    <tr>\n",
       "      <th>count</th>\n",
       "      <td>3214.000000</td>\n",
       "      <td>3214.000000</td>\n",
       "      <td>3214.000000</td>\n",
       "      <td>3214.000000</td>\n",
       "      <td>3214.000000</td>\n",
       "    </tr>\n",
       "    <tr>\n",
       "      <th>mean</th>\n",
       "      <td>63.038892</td>\n",
       "      <td>438.208787</td>\n",
       "      <td>38.281269</td>\n",
       "      <td>17207.673836</td>\n",
       "      <td>0.306472</td>\n",
       "    </tr>\n",
       "    <tr>\n",
       "      <th>std</th>\n",
       "      <td>33.236368</td>\n",
       "      <td>234.569872</td>\n",
       "      <td>36.148326</td>\n",
       "      <td>7570.968246</td>\n",
       "      <td>0.461100</td>\n",
       "    </tr>\n",
       "    <tr>\n",
       "      <th>min</th>\n",
       "      <td>0.000000</td>\n",
       "      <td>0.000000</td>\n",
       "      <td>0.000000</td>\n",
       "      <td>0.000000</td>\n",
       "      <td>0.000000</td>\n",
       "    </tr>\n",
       "    <tr>\n",
       "      <th>25%</th>\n",
       "      <td>40.000000</td>\n",
       "      <td>274.575000</td>\n",
       "      <td>9.000000</td>\n",
       "      <td>12491.902500</td>\n",
       "      <td>0.000000</td>\n",
       "    </tr>\n",
       "    <tr>\n",
       "      <th>50%</th>\n",
       "      <td>62.000000</td>\n",
       "      <td>430.600000</td>\n",
       "      <td>30.000000</td>\n",
       "      <td>16943.235000</td>\n",
       "      <td>0.000000</td>\n",
       "    </tr>\n",
       "    <tr>\n",
       "      <th>75%</th>\n",
       "      <td>82.000000</td>\n",
       "      <td>571.927500</td>\n",
       "      <td>57.000000</td>\n",
       "      <td>21424.700000</td>\n",
       "      <td>1.000000</td>\n",
       "    </tr>\n",
       "    <tr>\n",
       "      <th>max</th>\n",
       "      <td>244.000000</td>\n",
       "      <td>1632.060000</td>\n",
       "      <td>224.000000</td>\n",
       "      <td>49745.730000</td>\n",
       "      <td>1.000000</td>\n",
       "    </tr>\n",
       "  </tbody>\n",
       "</table>\n",
       "</div>"
      ],
      "text/plain": [
       "             calls      minutes     messages       mb_used     is_ultra\n",
       "count  3214.000000  3214.000000  3214.000000   3214.000000  3214.000000\n",
       "mean     63.038892   438.208787    38.281269  17207.673836     0.306472\n",
       "std      33.236368   234.569872    36.148326   7570.968246     0.461100\n",
       "min       0.000000     0.000000     0.000000      0.000000     0.000000\n",
       "25%      40.000000   274.575000     9.000000  12491.902500     0.000000\n",
       "50%      62.000000   430.600000    30.000000  16943.235000     0.000000\n",
       "75%      82.000000   571.927500    57.000000  21424.700000     1.000000\n",
       "max     244.000000  1632.060000   224.000000  49745.730000     1.000000"
      ]
     },
     "execution_count": 6,
     "metadata": {},
     "output_type": "execute_result"
    }
   ],
   "source": [
    "# an overview of the data distribution\n",
    "df.describe()"
   ]
  },
  {
   "cell_type": "markdown",
   "id": "07e5a2c3",
   "metadata": {},
   "source": [
    "<b> Observation: </b> Since the features have different weights we shall need to standardize them"
   ]
  },
  {
   "cell_type": "code",
   "execution_count": 7,
   "id": "2caa2f6b",
   "metadata": {},
   "outputs": [
    {
     "data": {
      "text/plain": [
       "calls       0\n",
       "minutes     0\n",
       "messages    0\n",
       "mb_used     0\n",
       "is_ultra    0\n",
       "dtype: int64"
      ]
     },
     "execution_count": 7,
     "metadata": {},
     "output_type": "execute_result"
    }
   ],
   "source": [
    "# check for null values\n",
    "df.isnull().sum()"
   ]
  },
  {
   "cell_type": "markdown",
   "id": "50d4758a",
   "metadata": {},
   "source": [
    "no missing values"
   ]
  },
  {
   "cell_type": "code",
   "execution_count": 8,
   "id": "8bf57f89",
   "metadata": {},
   "outputs": [
    {
     "data": {
      "text/plain": [
       "0"
      ]
     },
     "execution_count": 8,
     "metadata": {},
     "output_type": "execute_result"
    }
   ],
   "source": [
    "# check for duplicates\n",
    "df.duplicated().sum()"
   ]
  },
  {
   "cell_type": "markdown",
   "id": "3324f653",
   "metadata": {},
   "source": [
    "no duplicates"
   ]
  },
  {
   "cell_type": "markdown",
   "id": "b8a1f521",
   "metadata": {},
   "source": [
    "### d) Research-specific Analysis"
   ]
  },
  {
   "cell_type": "markdown",
   "id": "b980e3d9",
   "metadata": {},
   "source": [
    "What percentage of customers from our dataset purchased the different plans: Ultra and Smart?"
   ]
  },
  {
   "cell_type": "code",
   "execution_count": 9,
   "id": "92b76e79",
   "metadata": {},
   "outputs": [
    {
     "name": "stdout",
     "output_type": "stream",
     "text": [
      "0    2229\n",
      "1     985\n",
      "Name: is_ultra, dtype: int64\n"
     ]
    },
    {
     "data": {
      "image/png": "[encoded data removed]",
      "text/plain": [
       "<Figure size 576x432 with 1 Axes>"
      ]
     },
     "metadata": {},
     "output_type": "display_data"
    }
   ],
   "source": [
    "# plotting a pie chart to investigate whether patients had diabetes or not\n",
    "print(df.is_ultra.value_counts())\n",
    "df.is_ultra.value_counts().plot(kind = 'pie', autopct = '%0.1f%%', figsize = [8, 6], explode = (0, 0.03))\n",
    "plt.title(\"Distribution of Ultra Customers\")\n",
    "plt.show()"
   ]
  },
  {
   "cell_type": "markdown",
   "id": "bd47d44a",
   "metadata": {},
   "source": [
    "The data is well balanced and there is no need for adjusting the weights"
   ]
  },
  {
   "cell_type": "markdown",
   "id": "27c3b12a",
   "metadata": {},
   "source": [
    "### b) Check for correlation between columns"
   ]
  },
  {
   "cell_type": "code",
   "execution_count": 10,
   "id": "ae85e6cc",
   "metadata": {},
   "outputs": [
    {
     "data": {
      "text/html": [
       "<div>\n",
       "<style scoped>\n",
       "    .dataframe tbody tr th:only-of-type {\n",
       "        vertical-align: middle;\n",
       "    }\n",
       "\n",
       "    .dataframe tbody tr th {\n",
       "        vertical-align: top;\n",
       "    }\n",
       "\n",
       "    .dataframe thead th {\n",
       "        text-align: right;\n",
       "    }\n",
       "</style>\n",
       "<table border=\"1\" class=\"dataframe\">\n",
       "  <thead>\n",
       "    <tr style=\"text-align: right;\">\n",
       "      <th></th>\n",
       "      <th>calls</th>\n",
       "      <th>minutes</th>\n",
       "      <th>messages</th>\n",
       "      <th>mb_used</th>\n",
       "      <th>is_ultra</th>\n",
       "    </tr>\n",
       "  </thead>\n",
       "  <tbody>\n",
       "    <tr>\n",
       "      <th>calls</th>\n",
       "      <td>1.000000</td>\n",
       "      <td>0.982083</td>\n",
       "      <td>0.177385</td>\n",
       "      <td>0.286442</td>\n",
       "      <td>0.207122</td>\n",
       "    </tr>\n",
       "    <tr>\n",
       "      <th>minutes</th>\n",
       "      <td>0.982083</td>\n",
       "      <td>1.000000</td>\n",
       "      <td>0.173110</td>\n",
       "      <td>0.280967</td>\n",
       "      <td>0.206955</td>\n",
       "    </tr>\n",
       "    <tr>\n",
       "      <th>messages</th>\n",
       "      <td>0.177385</td>\n",
       "      <td>0.173110</td>\n",
       "      <td>1.000000</td>\n",
       "      <td>0.195721</td>\n",
       "      <td>0.203830</td>\n",
       "    </tr>\n",
       "    <tr>\n",
       "      <th>mb_used</th>\n",
       "      <td>0.286442</td>\n",
       "      <td>0.280967</td>\n",
       "      <td>0.195721</td>\n",
       "      <td>1.000000</td>\n",
       "      <td>0.198568</td>\n",
       "    </tr>\n",
       "    <tr>\n",
       "      <th>is_ultra</th>\n",
       "      <td>0.207122</td>\n",
       "      <td>0.206955</td>\n",
       "      <td>0.203830</td>\n",
       "      <td>0.198568</td>\n",
       "      <td>1.000000</td>\n",
       "    </tr>\n",
       "  </tbody>\n",
       "</table>\n",
       "</div>"
      ],
      "text/plain": [
       "             calls   minutes  messages   mb_used  is_ultra\n",
       "calls     1.000000  0.982083  0.177385  0.286442  0.207122\n",
       "minutes   0.982083  1.000000  0.173110  0.280967  0.206955\n",
       "messages  0.177385  0.173110  1.000000  0.195721  0.203830\n",
       "mb_used   0.286442  0.280967  0.195721  1.000000  0.198568\n",
       "is_ultra  0.207122  0.206955  0.203830  0.198568  1.000000"
      ]
     },
     "execution_count": 10,
     "metadata": {},
     "output_type": "execute_result"
    }
   ],
   "source": [
    "# check for correlation between features\n",
    "corr = df.corr()\n",
    "corr"
   ]
  },
  {
   "cell_type": "code",
   "execution_count": 11,
   "id": "230cc31c",
   "metadata": {},
   "outputs": [
    {
     "data": {
      "text/plain": [
       "<AxesSubplot:>"
      ]
     },
     "execution_count": 11,
     "metadata": {},
     "output_type": "execute_result"
    },
    {
     "data": {
      "image/png": "[encoded data removed]",
      "text/plain": [
       "<Figure size 432x288 with 2 Axes>"
      ]
     },
     "metadata": {
      "needs_background": "light"
     },
     "output_type": "display_data"
    }
   ],
   "source": [
    "# plot the heatmap\n",
    "sns.heatmap(corr)"
   ]
  },
  {
   "cell_type": "code",
   "execution_count": 12,
   "id": "6ffafb5b",
   "metadata": {},
   "outputs": [
    {
     "data": {
      "text/plain": [
       "is_ultra    1.000000\n",
       "calls       0.207122\n",
       "minutes     0.206955\n",
       "messages    0.203830\n",
       "mb_used     0.198568\n",
       "Name: is_ultra, dtype: float64"
      ]
     },
     "execution_count": 12,
     "metadata": {},
     "output_type": "execute_result"
    }
   ],
   "source": [
    "# check for relationship between features and the target (is_ultra)\n",
    "corr.is_ultra.abs().sort_values(ascending=False)"
   ]
  },
  {
   "cell_type": "markdown",
   "id": "9f3352be",
   "metadata": {},
   "source": [
    "<b> Observation: </b> All features are good predictors"
   ]
  },
  {
   "cell_type": "markdown",
   "id": "d4f72c90",
   "metadata": {},
   "source": [
    "since number of calls determines the minutes used we can drop the number of columns column"
   ]
  },
  {
   "cell_type": "markdown",
   "id": "fc3c3f78",
   "metadata": {},
   "source": [
    "## 3. Data Preparation"
   ]
  },
  {
   "cell_type": "code",
   "execution_count": 13,
   "id": "3553b7d5",
   "metadata": {},
   "outputs": [
    {
     "data": {
      "text/html": [
       "<div>\n",
       "<style scoped>\n",
       "    .dataframe tbody tr th:only-of-type {\n",
       "        vertical-align: middle;\n",
       "    }\n",
       "\n",
       "    .dataframe tbody tr th {\n",
       "        vertical-align: top;\n",
       "    }\n",
       "\n",
       "    .dataframe thead th {\n",
       "        text-align: right;\n",
       "    }\n",
       "</style>\n",
       "<table border=\"1\" class=\"dataframe\">\n",
       "  <thead>\n",
       "    <tr style=\"text-align: right;\">\n",
       "      <th></th>\n",
       "      <th>minutes</th>\n",
       "      <th>messages</th>\n",
       "      <th>mb_used</th>\n",
       "    </tr>\n",
       "  </thead>\n",
       "  <tbody>\n",
       "    <tr>\n",
       "      <th>0</th>\n",
       "      <td>311.90</td>\n",
       "      <td>83.0</td>\n",
       "      <td>19915.42</td>\n",
       "    </tr>\n",
       "    <tr>\n",
       "      <th>1</th>\n",
       "      <td>516.75</td>\n",
       "      <td>56.0</td>\n",
       "      <td>22696.96</td>\n",
       "    </tr>\n",
       "    <tr>\n",
       "      <th>2</th>\n",
       "      <td>467.66</td>\n",
       "      <td>86.0</td>\n",
       "      <td>21060.45</td>\n",
       "    </tr>\n",
       "    <tr>\n",
       "      <th>3</th>\n",
       "      <td>745.53</td>\n",
       "      <td>81.0</td>\n",
       "      <td>8437.39</td>\n",
       "    </tr>\n",
       "    <tr>\n",
       "      <th>4</th>\n",
       "      <td>418.74</td>\n",
       "      <td>1.0</td>\n",
       "      <td>14502.75</td>\n",
       "    </tr>\n",
       "    <tr>\n",
       "      <th>...</th>\n",
       "      <td>...</td>\n",
       "      <td>...</td>\n",
       "      <td>...</td>\n",
       "    </tr>\n",
       "    <tr>\n",
       "      <th>3209</th>\n",
       "      <td>910.98</td>\n",
       "      <td>20.0</td>\n",
       "      <td>35124.90</td>\n",
       "    </tr>\n",
       "    <tr>\n",
       "      <th>3210</th>\n",
       "      <td>190.36</td>\n",
       "      <td>0.0</td>\n",
       "      <td>3275.61</td>\n",
       "    </tr>\n",
       "    <tr>\n",
       "      <th>3211</th>\n",
       "      <td>634.44</td>\n",
       "      <td>70.0</td>\n",
       "      <td>13974.06</td>\n",
       "    </tr>\n",
       "    <tr>\n",
       "      <th>3212</th>\n",
       "      <td>462.32</td>\n",
       "      <td>90.0</td>\n",
       "      <td>31239.78</td>\n",
       "    </tr>\n",
       "    <tr>\n",
       "      <th>3213</th>\n",
       "      <td>566.09</td>\n",
       "      <td>6.0</td>\n",
       "      <td>29480.52</td>\n",
       "    </tr>\n",
       "  </tbody>\n",
       "</table>\n",
       "<p>3214 rows × 3 columns</p>\n",
       "</div>"
      ],
      "text/plain": [
       "      minutes  messages   mb_used\n",
       "0      311.90      83.0  19915.42\n",
       "1      516.75      56.0  22696.96\n",
       "2      467.66      86.0  21060.45\n",
       "3      745.53      81.0   8437.39\n",
       "4      418.74       1.0  14502.75\n",
       "...       ...       ...       ...\n",
       "3209   910.98      20.0  35124.90\n",
       "3210   190.36       0.0   3275.61\n",
       "3211   634.44      70.0  13974.06\n",
       "3212   462.32      90.0  31239.78\n",
       "3213   566.09       6.0  29480.52\n",
       "\n",
       "[3214 rows x 3 columns]"
      ]
     },
     "execution_count": 13,
     "metadata": {},
     "output_type": "execute_result"
    }
   ],
   "source": [
    "# get the features and targets\n",
    "target = df['is_ultra']\n",
    "features = df.drop(['is_ultra','calls'], axis=1)\n",
    "features"
   ]
  },
  {
   "cell_type": "code",
   "execution_count": 14,
   "id": "3ce356e6",
   "metadata": {},
   "outputs": [
    {
     "data": {
      "text/plain": [
       "array([[-0.53855357,  1.23728246,  0.35770425],\n",
       "       [ 0.33488288,  0.49024367,  0.72515696],\n",
       "       [ 0.12557366,  1.32028677,  0.50896735],\n",
       "       ...,\n",
       "       [ 0.83668779,  0.87759711, -0.4271735 ],\n",
       "       [ 0.10280504,  1.43095918,  1.85369812],\n",
       "       [ 0.54525806, -0.8931615 ,  1.62129274]])"
      ]
     },
     "execution_count": 14,
     "metadata": {},
     "output_type": "execute_result"
    }
   ],
   "source": [
    "# standardize the features to be between 0 and 1\n",
    "scaler = StandardScaler()\n",
    "std_features  = scaler.fit_transform(features)\n",
    "std_features"
   ]
  },
  {
   "cell_type": "code",
   "execution_count": 15,
   "id": "eb494c5e",
   "metadata": {},
   "outputs": [
    {
     "name": "stdout",
     "output_type": "stream",
     "text": [
      "features_train:  (2571, 3)\n",
      "target_train:  (2571,)\n",
      "features_valid:  (321, 3)\n",
      "target_valid:  (321,)\n",
      "features_test:  (322, 3)\n",
      "target_test:  (322,)\n"
     ]
    },
    {
     "data": {
      "text/plain": [
       "(None, None)"
      ]
     },
     "execution_count": 15,
     "metadata": {},
     "output_type": "execute_result"
    }
   ],
   "source": [
    "# split the data into training (80%), validation (10%), and test (10%) sets\n",
    "\n",
    "# In the first step we will split the data in training and remaining dataset\n",
    "features_train, features_rem, target_train, target_rem = train_test_split(\n",
    "    std_features, target, train_size=0.8, random_state=12345\n",
    ")\n",
    "\n",
    "# Now since we want the valid and test size to be equal (10% each of overall data). \n",
    "# we have to define valid_size=0.5 (that is 50% of remaining data)\n",
    "\n",
    "features_valid, features_test, target_valid, target_test = train_test_split(\n",
    "    features_rem,target_rem, test_size=0.5, random_state=12345)\n",
    "\n",
    "print('features_train: ', features_train.shape), print('target_train: ', target_train.shape)\n",
    "print('features_valid: ', features_valid.shape), print('target_valid: ', target_valid.shape)\n",
    "print('features_test: ', features_test.shape), print('target_test: ', target_test.shape)"
   ]
  },
  {
   "cell_type": "markdown",
   "id": "bfee9462",
   "metadata": {},
   "source": [
    "## 5. Data Modeling"
   ]
  },
  {
   "cell_type": "markdown",
   "id": "c7ce113f",
   "metadata": {},
   "source": [
    "### a) Train logistic regression model"
   ]
  },
  {
   "cell_type": "code",
   "execution_count": 16,
   "id": "2776ca38",
   "metadata": {},
   "outputs": [],
   "source": [
    "# define models and parameters\n",
    "model = LogisticRegression()\n",
    "solvers = ['newton-cg', 'lbfgs', 'liblinear']\n",
    "penalty = ['none', 'l1', 'l2', 'elasticnet']\n",
    "c_values = [100, 10, 1.0, 0.1, 0.01]"
   ]
  },
  {
   "cell_type": "code",
   "execution_count": 17,
   "id": "28ec34aa",
   "metadata": {},
   "outputs": [
    {
     "name": "stdout",
     "output_type": "stream",
     "text": [
      "Best: 0.745624 using {'C': 0.01, 'penalty': 'l2', 'solver': 'liblinear'}\n"
     ]
    }
   ],
   "source": [
    "# define grid search\n",
    "grid = dict(solver=solvers,penalty=penalty,C=c_values)\n",
    "cv = RepeatedStratifiedKFold(n_splits=10, n_repeats=3, random_state=12345)\n",
    "grid_search = GridSearchCV(estimator=model, param_grid=grid, n_jobs=-1, cv=cv, scoring='accuracy',error_score=0)\n",
    "grid_result = grid_search.fit(features_train,target_train)\n",
    "\n",
    "# summarize results\n",
    "print(\"Best: %f using %s\" % (grid_result.best_score_, grid_result.best_params_))"
   ]
  },
  {
   "cell_type": "markdown",
   "id": "e8d55c30",
   "metadata": {},
   "source": [
    "Best model has the features below: \n",
    "<br>\n",
    "<b> {'C': 0.01, 'penalty': 'l2', 'solver': 'liblinear'} </b>"
   ]
  },
  {
   "cell_type": "code",
   "execution_count": 18,
   "id": "45b274a0",
   "metadata": {},
   "outputs": [
    {
     "name": "stdout",
     "output_type": "stream",
     "text": [
      "0.7663551401869159\n",
      "Wall time: 5.54 ms\n"
     ]
    }
   ],
   "source": [
    "%%time\n",
    "log_reg_model = LogisticRegression(solver='liblinear',penalty='l2',C=100,random_state=12345)\n",
    "log_reg_model.fit(features_train,target_train)\n",
    "print(log_reg_model.score(features_valid,target_valid))"
   ]
  },
  {
   "cell_type": "markdown",
   "id": "3085538c",
   "metadata": {},
   "source": [
    "### b) Train Decision Tree Model"
   ]
  },
  {
   "cell_type": "code",
   "execution_count": 19,
   "id": "67f712de",
   "metadata": {},
   "outputs": [
    {
     "name": "stdout",
     "output_type": "stream",
     "text": [
      "Max Depth:  1 Score:  0.7414330218068536\n",
      "Max Depth:  2 Score:  0.7819314641744548\n",
      "Max Depth:  3 Score:  0.7881619937694704\n",
      "Max Depth:  4 Score:  0.794392523364486\n",
      "Max Depth:  5 Score:  0.778816199376947\n",
      "Max Depth:  6 Score:  0.7850467289719626\n",
      "Max Depth:  7 Score:  0.7819314641744548\n",
      "Max Depth:  8 Score:  0.778816199376947\n",
      "Max Depth:  9 Score:  0.7757009345794392\n",
      "Max Depth:  10 Score:  0.7881619937694704\n",
      "Max Depth:  11 Score:  0.7757009345794392\n",
      "Max Depth:  12 Score:  0.7663551401869159\n",
      "Max Depth:  13 Score:  0.7725856697819314\n",
      "Max Depth:  14 Score:  0.7538940809968847\n",
      "Max Depth:  15 Score:  0.7694704049844237\n"
     ]
    }
   ],
   "source": [
    "# check for optimal max_depth\n",
    "for i in range(1,16):\n",
    "    dt_model = DecisionTreeClassifier(max_depth=i, random_state=12345)\n",
    "    dt_model.fit(features_train,target_train)\n",
    "    print('Max Depth: ',i, 'Score: ', dt_model.score(features_valid,target_valid))"
   ]
  },
  {
   "cell_type": "markdown",
   "id": "273ecb66",
   "metadata": {},
   "source": [
    "The best decision tree occurs at <b> max_depth=4 </b>"
   ]
  },
  {
   "cell_type": "code",
   "execution_count": 20,
   "id": "af23f2dc",
   "metadata": {},
   "outputs": [
    {
     "name": "stdout",
     "output_type": "stream",
     "text": [
      "0.794392523364486\n",
      "Wall time: 9.48 ms\n"
     ]
    }
   ],
   "source": [
    "%%time\n",
    "dt_model = DecisionTreeClassifier(max_depth=4,random_state=12345)\n",
    "dt_model.fit(features_train,target_train)\n",
    "print(dt_model.score(features_valid,target_valid))"
   ]
  },
  {
   "cell_type": "markdown",
   "id": "8fe32829",
   "metadata": {},
   "source": [
    "### c) Train Random Forest Model"
   ]
  },
  {
   "cell_type": "code",
   "execution_count": 21,
   "id": "7a71cf30",
   "metadata": {},
   "outputs": [
    {
     "name": "stdout",
     "output_type": "stream",
     "text": [
      "Estimators:  1 Score:  0.7819314641744548\n",
      "Estimators:  2 Score:  0.794392523364486\n",
      "Estimators:  3 Score:  0.7975077881619937\n",
      "Estimators:  4 Score:  0.794392523364486\n",
      "Estimators:  5 Score:  0.794392523364486\n",
      "Estimators:  6 Score:  0.7912772585669782\n",
      "Estimators:  7 Score:  0.794392523364486\n",
      "Estimators:  8 Score:  0.8006230529595015\n",
      "Estimators:  9 Score:  0.8037383177570093\n",
      "Estimators:  10 Score:  0.8006230529595015\n"
     ]
    }
   ],
   "source": [
    "# check for optimal max_depth\n",
    "for i in range(1,11):\n",
    "    rf_model = RandomForestClassifier(max_depth=4,n_estimators=i, random_state=12345)\n",
    "    rf_model.fit(features_train,target_train)\n",
    "    print('Estimators: ',i, 'Score: ', rf_model.score(features_valid,target_valid))"
   ]
  },
  {
   "cell_type": "markdown",
   "id": "b2743028",
   "metadata": {},
   "source": [
    "The best random forest occurs at <b> n_estimators=9 </b>"
   ]
  },
  {
   "cell_type": "code",
   "execution_count": 22,
   "id": "d8284e38",
   "metadata": {},
   "outputs": [
    {
     "name": "stdout",
     "output_type": "stream",
     "text": [
      "0.8037383177570093\n",
      "Wall time: 29.8 ms\n"
     ]
    }
   ],
   "source": [
    "%%time\n",
    "rf_model = RandomForestClassifier(max_depth=4,n_estimators=9,random_state=12345)\n",
    "rf_model.fit(features_train,target_train)\n",
    "print(rf_model.score(features_valid,target_valid))"
   ]
  },
  {
   "cell_type": "markdown",
   "id": "2f02b329",
   "metadata": {},
   "source": [
    "<li> The <b>Random Forest Classifier </b> turns out to be the model with <b>the best accuracy score of 80.37%</b>.\n",
    "However it takes the longest time when compared to both Random Forest and Logistic Regression. \n",
    "<li> <b>Decision Tree </b> took the <b>second fastest time</b> to run and also had the <b>second best accuracy of 79.44% </b> </li>\n",
    "<li> Logistic Regression had <b>the worst accuracy of 76.64% </b> but had <b> the best run time </b> </li>"
   ]
  },
  {
   "cell_type": "markdown",
   "id": "e46312ae",
   "metadata": {},
   "source": [
    "Therefore the <b> best model </b> to use is <b>Decision Tree</b>"
   ]
  },
  {
   "cell_type": "code",
   "execution_count": 23,
   "id": "5549604d",
   "metadata": {},
   "outputs": [
    {
     "name": "stdout",
     "output_type": "stream",
     "text": [
      "Wall time: 998 µs\n"
     ]
    },
    {
     "data": {
      "text/plain": [
       "array([0, 1, 0, 0, 0, 0, 0, 1, 0, 0, 1, 0, 0, 0, 0, 0, 0, 0, 0, 0, 0, 0,\n",
       "       0, 0, 0, 0, 0, 0, 0, 0, 0, 0, 0, 0, 0, 0, 0, 0, 0, 0, 0, 0, 0, 0,\n",
       "       0, 0, 1, 0, 0, 0, 0, 0, 0, 0, 1, 0, 0, 0, 0, 1, 1, 0, 1, 0, 0, 0,\n",
       "       0, 0, 0, 0, 0, 1, 0, 0, 0, 0, 0, 0, 0, 1, 0, 0, 0, 0, 0, 0, 0, 0,\n",
       "       0, 0, 0, 0, 1, 0, 0, 0, 0, 0, 1, 0, 0, 0, 0, 0, 0, 0, 0, 0, 0, 0,\n",
       "       0, 0, 0, 0, 0, 0, 0, 0, 0, 0, 0, 0, 0, 0, 0, 0, 0, 0, 0, 0, 0, 0,\n",
       "       0, 0, 0, 0, 0, 0, 0, 0, 1, 0, 1, 0, 1, 0, 0, 0, 1, 0, 1, 0, 1, 0,\n",
       "       0, 0, 0, 0, 1, 0, 0, 0, 0, 1, 0, 0, 0, 0, 0, 0, 0, 1, 0, 0, 1, 0,\n",
       "       0, 0, 1, 0, 0, 0, 0, 1, 0, 1, 0, 0, 0, 1, 0, 0, 1, 0, 0, 0, 1, 0,\n",
       "       0, 0, 0, 0, 0, 0, 0, 0, 0, 0, 0, 1, 1, 0, 1, 0, 0, 0, 1, 0, 0, 0,\n",
       "       0, 0, 0, 0, 0, 0, 0, 0, 1, 0, 0, 0, 1, 0, 0, 0, 0, 0, 0, 1, 1, 1,\n",
       "       0, 1, 0, 0, 0, 0, 0, 0, 1, 0, 0, 0, 0, 1, 1, 0, 0, 0, 1, 0, 1, 0,\n",
       "       0, 0, 1, 0, 0, 1, 0, 0, 0, 1, 0, 0, 0, 0, 0, 1, 0, 0, 0, 0, 0, 1,\n",
       "       1, 0, 0, 0, 0, 0, 0, 1, 0, 0, 0, 0, 1, 0, 0, 0, 0, 0, 0, 0, 0, 0,\n",
       "       1, 0, 1, 0, 1, 0, 0, 0, 0, 0, 0, 0, 0, 0], dtype=int64)"
      ]
     },
     "execution_count": 23,
     "metadata": {},
     "output_type": "execute_result"
    }
   ],
   "source": [
    "%%time\n",
    "# We now use our best model to predict\n",
    "\n",
    "predicted_target = dt_model.predict(features_test)\n",
    "predicted_target"
   ]
  },
  {
   "cell_type": "code",
   "execution_count": 24,
   "id": "f9cb8a4d",
   "metadata": {},
   "outputs": [
    {
     "name": "stdout",
     "output_type": "stream",
     "text": [
      "              precision    recall  f1-score   support\n",
      "\n",
      "           0       0.80      0.93      0.86       229\n",
      "           1       0.72      0.42      0.53        93\n",
      "\n",
      "    accuracy                           0.79       322\n",
      "   macro avg       0.76      0.68      0.70       322\n",
      "weighted avg       0.78      0.79      0.77       322\n",
      "\n"
     ]
    }
   ],
   "source": [
    "# let's print the model reports\n",
    "model_report = classification_report(target_test,predicted_target)\n",
    "print(model_report)"
   ]
  },
  {
   "cell_type": "code",
   "execution_count": 25,
   "id": "169e149a",
   "metadata": {},
   "outputs": [
    {
     "name": "stdout",
     "output_type": "stream",
     "text": [
      "0.7857142857142857\n"
     ]
    }
   ],
   "source": [
    "print(dt_model.score(features_test,target_test))"
   ]
  },
  {
   "cell_type": "markdown",
   "id": "9724785a",
   "metadata": {},
   "source": [
    "Our model still performs well on test data"
   ]
  },
  {
   "cell_type": "markdown",
   "id": "e4406699",
   "metadata": {},
   "source": [
    "## 6. Findings and Recommendations"
   ]
  },
  {
   "cell_type": "markdown",
   "id": "dd49374c",
   "metadata": {},
   "source": [
    "### a) Compare the values predicted against the test dataset"
   ]
  },
  {
   "cell_type": "code",
   "execution_count": 26,
   "id": "7eb44a03",
   "metadata": {},
   "outputs": [
    {
     "data": {
      "text/plain": [
       "0    0.832298\n",
       "1    0.167702\n",
       "dtype: float64"
      ]
     },
     "execution_count": 26,
     "metadata": {},
     "output_type": "execute_result"
    }
   ],
   "source": [
    "predicted_series = pd.Series(predicted_target)\n",
    "predicted_class_frequency = predicted_series.value_counts(normalize=True)\n",
    "predicted_class_frequency"
   ]
  },
  {
   "cell_type": "code",
   "execution_count": 27,
   "id": "3a6904d4",
   "metadata": {},
   "outputs": [
    {
     "data": {
      "image/png": "[encoded data removed]",
      "text/plain": [
       "<Figure size 432x288 with 1 Axes>"
      ]
     },
     "metadata": {},
     "output_type": "display_data"
    }
   ],
   "source": [
    "predicted_class_frequency.plot(kind = 'pie', autopct = '%0.1f%%', figsize = [6, 4], explode = (0, 0.03))\n",
    "plt.title(\"Distribution of Predicted Ultra Customers\")\n",
    "plt.show()"
   ]
  },
  {
   "cell_type": "markdown",
   "id": "5c3af1ca",
   "metadata": {},
   "source": [
    "check class distribution for the test target"
   ]
  },
  {
   "cell_type": "code",
   "execution_count": 28,
   "id": "bdb79aba",
   "metadata": {},
   "outputs": [
    {
     "data": {
      "text/plain": [
       "0    0.71118\n",
       "1    0.28882\n",
       "Name: is_ultra, dtype: float64"
      ]
     },
     "execution_count": 28,
     "metadata": {},
     "output_type": "execute_result"
    }
   ],
   "source": [
    "target_frequency = target_test.value_counts(normalize=True)\n",
    "target_frequency"
   ]
  },
  {
   "cell_type": "code",
   "execution_count": 29,
   "id": "afe059bc",
   "metadata": {},
   "outputs": [
    {
     "data": {
      "image/png": "[encoded data removed]",
      "text/plain": [
       "<Figure size 432x288 with 1 Axes>"
      ]
     },
     "metadata": {},
     "output_type": "display_data"
    }
   ],
   "source": [
    "target_test.value_counts().plot(kind = 'pie', autopct = '%0.1f%%', figsize = [6,4], explode = (0, 0.03))\n",
    "plt.title(\"Distribution of Ultra Customers in Test Dataset\")\n",
    "plt.show()"
   ]
  },
  {
   "cell_type": "markdown",
   "id": "c7a21275",
   "metadata": {},
   "source": [
    "<b> Conclusion </b> <br>\n",
    "Megaline company can rely on the Decision Tree Model to recommend the Ultra or Smart plans to their customers"
   ]
  },
  {
   "cell_type": "code",
   "execution_count": null,
   "id": "7f0eea09",
   "metadata": {},
   "outputs": [],
   "source": []
  }
 ],
 "metadata": {
  "kernelspec": {
   "display_name": "Python 3 (ipykernel)",
   "language": "python",
   "name": "python3"
  },
  "language_info": {
   "codemirror_mode": {
    "name": "ipython",
    "version": 3
   },
   "file_extension": ".py",
   "mimetype": "text/x-python",
   "name": "python",
   "nbconvert_exporter": "python",
   "pygments_lexer": "ipython3",
   "version": "3.9.6"
  }
 },
 "nbformat": 4,
 "nbformat_minor": 5
}
